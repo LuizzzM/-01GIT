{
  "nbformat": 4,
  "nbformat_minor": 0,
  "metadata": {
    "colab": {
      "provenance": [],
      "authorship_tag": "ABX9TyMRgtIzUD9mRC0N0gVqz7MR",
      "include_colab_link": true
    },
    "kernelspec": {
      "name": "python3",
      "display_name": "Python 3"
    },
    "language_info": {
      "name": "python"
    }
  },
  "cells": [
    {
      "cell_type": "markdown",
      "metadata": {
        "id": "view-in-github",
        "colab_type": "text"
      },
      "source": [
        "<a href=\"https://colab.research.google.com/github/LuizzzM/-01GIT/blob/main/hidra_multimodal_testbed.ipynb\" target=\"_parent\"><img src=\"https://colab.research.google.com/assets/colab-badge.svg\" alt=\"Open In Colab\"/></a>"
      ]
    },
    {
      "cell_type": "markdown",
      "source": [
        "# 🌙 Hidra Gemini Cygnus Testbed\n",
        "\n",
        "Este notebook apresenta o ambiente de testes do sistema **Hidra**, uma arquitetura de inteligência artificial multimodal desenvolvida no IFNMG – Campus Salinas. A versão atual integra modelos avançados como **Gemini Cygnus**, **Meta-Llama Instruct**, **Whisper**, **FER+**, e módulos visuais e interativos via **Streamlit**.\n",
        "\n",
        "**Discente:** Luiz Augusto Mendes Barbosa\n",
        "**Instituição:** Instituto Federal do Norte de Minas Gerais – Campus Salinas\n",
        "**Curso:** Bacharelado em Sistemas de Informação\n",
        "**Data:** Agosto de 2025\n",
        "\n",
        "---\n",
        "## 🎯 Objetivo do Projeto\n",
        "\n",
        "Desenvolver um sistema de inteligência artificial multimodal com foco em aplicações educacionais, institucionais e éticas, utilizando uma arquitetura modular e transparente para facilitar a pesquisa e a experimentação.\n",
        "**negrito**\n",
        "## 🧰 Componentes Principais\n",
        "- **HidraText**: Geração de texto explicativo com Meta-Llama\n",
        "- **HidraVision**: Classificação e processamento de imagens\n",
        "- **Whisper**: Transcrição e análise de voz\n",
        "- **FER+**: Reconhecimento de emoções faciais\n",
        "- **Cygnus**: Análise preditiva com otimização avançada\n",
        "\n",
        "---\n",
        "\n",
        "> 💡 Este notebook é um _testbed_ modular e escalável, ideal para experimentações acadêmicas e institucionais com IA ética e acessível."
      ],
      "metadata": {
        "id": "CKsPIzwXiHys"
      }
    },
    {
      "cell_type": "markdown",
      "source": [
        "#Sistema Hidra – IA Multimodal com Modelos Hidra\n",
        "\n",
        "Introdução\n",
        "\n",
        "O projeto Hidra é uma iniciativa acadêmica desenvolvida no Instituto Federal do Norte de Minas Gerais, com o objetivo de criar um sistema de inteligência artificial multimodal robusto e ético. Este sistema é baseado na arquitetura Hidra de Luiz Augusto Mendes Barbosa.\n",
        "Conhecida por sua modularidade, transparência e compatibilidade com execução local.\n",
        "\n",
        "Referências Técnicas\n",
        "\n",
        "Modelos Granite: A base do sistema Hidra, incluindo Hidra Vision, Hidra Instruct e Hidra Guardian, que oferecem suporte a tarefas como classificação de imagens, geração de texto e auditoria ética.\n",
        "\n",
        "Hugging Face Transformers: Biblioteca amplamente utilizada para implementar modelos de aprendizado profundo em tarefas de NLP, visão computacional e multimodalidade.\n",
        "\n",
        "Whisper: Modelo de transcrição de áudio desenvolvido pela OpenAI, integrado ao Hidra para análise de voz.\n",
        "\n",
        "FER+: Ferramenta para reconhecimento de emoções faciais, utilizada para inferência emocional.\n",
        "\n",
        "Streamlit e Widgets: Tecnologias para criar interfaces interativas e painéis de visualização.\n",
        "\n",
        "O sistema Hidra é projetado para aplicações educacionais, institucionais e éticas, com foco em acessibilidade, explicabilidade e responsabilidade.\n"
      ],
      "metadata": {
        "id": "ifSkkHaeRUND"
      }
    },
    {
      "cell_type": "markdown",
      "source": [
        "Este bloco de código instala as bibliotecas necessárias para o funcionamento do sistema Hidra.\n",
        "\n",
        "Transformers: Biblioteca essencial para carregar e utilizar modelos pré-treinados, como os da família Hidra.\n",
        "\n",
        ".\n",
        "\n",
        "FER: Ferramenta para reconhecimento de emoções faciais, integrada ao módulo de inferência emocional.\n",
        "\n",
        "Streamlit: Utilizada para criar interfaces interativas e painéis de visualização.\n",
        "\n",
        "Whisper: Modelo de transcrição de áudio, crucial para o módulo de análise de voz.\n",
        "\n",
        "OpenAI: Biblioteca para integração com modelos avançados de IA.\n",
        "\n",
        "Pillow e OpenCV: Ferramentas para manipulação e processamento de imagens, utilizadas no módulo Hidra Vision.\n",
        "\n",
        "Certifique-se de executar este comando em um ambiente Python com acesso à internet para garantir a instalação bem-sucedida."
      ],
      "metadata": {
        "id": "5xT9Utb3Rlpy"
      }
    },
    {
      "cell_type": "code",
      "source": [
        "!pip install transformers fer streamlit whisper openai pillow opencv-python matplotlib seaborn requests pyngrok ipywidgets"
      ],
      "metadata": {
        "id": "4b6YnAyQTyS9"
      },
      "execution_count": null,
      "outputs": []
    },
    {
      "cell_type": "markdown",
      "source": [],
      "metadata": {
        "id": "CGL3yT1ZJqno"
      }
    },
    {
      "cell_type": "markdown",
      "source": [
        "## 📝 HidraText – Geração de Texto Explicativo\n",
        "\n",
        "O modelo Meta-Llama Instruct é um LLM (Large Language Model) projetado para tarefas de geração de texto e raciocínio. Desenvolvido pela Meta, ele é otimizado para fornecer respostas explicativas e detalhadas, com foco em ética e aplicabilidade prática. O modelo utiliza um prompt para gerar texto baseado em aprendizado profundo.\n",
        "\n",
        "**Aplicação no Hidra:** Este módulo é utilizado para criar explicações detalhadas e relatórios técnicos, como auditorias éticas e análises de impacto."
      ],
      "metadata": {
        "id": "YG1rTenwSMAO"
      }
    },
    {
      "cell_type": "code",
      "source": [
        "from transformers import AutoTokenizer, AutoModelForCausalLM\n",
        "\n",
        "model_id = \"meta-llama/Meta-Llama-3-8B-Instruct\"\n",
        "\n",
        "tokenizer = AutoTokenizer.from_pretrained(model_id)\n",
        "model = AutoModelForCausalLM.from_pretrained(model_id)\n",
        "\n",
        "prompt = \"Explique os riscos éticos do uso de IA em ambientes escolares.\"\n",
        "inputs = tokenizer(prompt, return_tensors=\"pt\")\n",
        "output = model.generate(**inputs, max_new_tokens=250)\n",
        "print(tokenizer.decode(output[0], skip_special_tokens=True))"
      ],
      "metadata": {
        "id": "LIK_Ok7BSP3U"
      },
      "execution_count": null,
      "outputs": []
    },
    {
      "cell_type": "markdown",
      "source": [
        "💡 Certifique-se de que o ambiente Python tenha acesso à internet para baixar os pesos do modelo."
      ],
      "metadata": {
        "id": "y4AUt8UKj00r"
      }
    },
    {
      "cell_type": "markdown",
      "source": [
        "🛡️ Hidra Guardian – Auditoria Ética Automatizada\n",
        "Este módulo realiza uma verificação simples e eficaz de riscos éticos em textos gerados ou recebidos pelo sistema.\n",
        "\n",
        "⚙️ Como Funciona\n",
        "- Analisa o conteúdo textual em busca de termos sensíveis como:\n",
        "- \"emoção\"\n",
        "- \"consentimento\"\n",
        "- Se encontrar esses termos, sinaliza um possível risco ético\n",
        "- Recomenda supervisão humana para decisões críticas\n",
        "\n",
        "🧪 Exemplo de Código\n"
      ],
      "metadata": {
        "id": "Fnj-McK-SR-l"
      }
    },
    {
      "cell_type": "code",
      "source": [
        "def simular_auditoria(prompt_texto):\n",
        "    if \"emoção\" in prompt_texto.lower() or \"consentimento\" in prompt_texto.lower():\n",
        "        print(\"⚠️ Risco ético detectado: Recomenda-se supervisão humana.\")\n",
        "    else:\n",
        "        print(\"✅ Entrada validada: sem risco identificado.\")\n",
        "\n",
        "simular_auditoria(\"A IA pode monitorar emoções sem consentimento?\")"
      ],
      "metadata": {
        "id": "pgJYtxTsSVN3"
      },
      "execution_count": null,
      "outputs": []
    },
    {
      "cell_type": "markdown",
      "source": [
        "🧠 Aplicação no Sistema Hidra\n",
        "- Pode ser integrado a qualquer módulo que gere ou analise texto\n",
        "- Funciona como uma camada de segurança ética\n",
        "- Ideal para ambientes educacionais e institucionais que exigem responsabilidade no uso de IA\n"
      ],
      "metadata": {
        "id": "nEcUjhpDk289"
      }
    },
    {
      "cell_type": "markdown",
      "source": [
        "🖼️ Granite Vision – Classificação de Imagem\n",
        "Este módulo utiliza o modelo Granite Vision da IBM para identificar o conteúdo de imagens por meio de aprendizado profundo.\n",
        "\n",
        "⚙️ Como Funciona\n",
        "- Carrega uma imagem da internet\n",
        "- Processa a imagem com um modelo pré-treinado\n",
        "- Retorna a classe prevista com base nos dados visuais\n",
        "\n",
        "🧪 Exemplo de Código\n"
      ],
      "metadata": {
        "id": "LZa0eyYLSZ8V"
      }
    },
    {
      "cell_type": "code",
      "source": [
        "from transformers import AutoProcessor, AutoModelForImageClassification\n",
        "from PIL import Image\n",
        "import requests\n",
        "\n",
        "model_id = \"IBM/granite-vision-3.2-2b\"\n",
        "image = Image.open(requests.get(\"https://images.unsplash.com/photo-1607746882042-944635dfe10e\", stream=True).raw)\n",
        "\n",
        "processor = AutoProcessor.from_pretrained(model_id)\n",
        "model = AutoModelForImageClassification.from_pretrained(model_id)\n",
        "\n",
        "inputs = processor(images=image, return_tensors=\"pt\")\n",
        "outputs = model(**inputs)\n",
        "print(\"🖼️ Classe prevista:\", outputs.logits.argmax().item())"
      ],
      "metadata": {
        "id": "O2n_W2THSf8A"
      },
      "execution_count": null,
      "outputs": []
    },
    {
      "cell_type": "markdown",
      "source": [
        "🎙️ Whisper – Transcrição de Áudio e Análise de Voz\n",
        "\n",
        "O modelo Whisper, desenvolvido pela OpenAI, é uma ferramenta avançada para transformar fala em texto com alta precisão.\n",
        "🧠 Características\n",
        "- Suporte a múltiplos idiomas\n",
        "- Funciona bem mesmo em áudios com ruído\n",
        "- Gera transcrições com pontuação e formatação básica\n",
        "\n",
        "🧩 Aplicação no Sistema Hidra\n",
        "- Criação de transcrições automáticas\n",
        "- Análise de entrada auditiva para complementar visão e emoção\n",
        "- Ideal para acessibilidade e inclusão educacional\n",
        "\n",
        "🧪 Exemplo de Código\n"
      ],
      "metadata": {
        "id": "98-CvMyBSjGU"
      }
    },
    {
      "cell_type": "code",
      "source": [
        "import whisper\n",
        "\n",
        "modelo = whisper.load_model(\"base\")\n",
        "resultado = modelo.transcribe(\"caminho_para_audio.wav\")\n",
        "print(\"🗣️ Transcrição:\", resultado[\"text\"])"
      ],
      "metadata": {
        "id": "eoytgYBcSlWa"
      },
      "execution_count": null,
      "outputs": []
    },
    {
      "cell_type": "markdown",
      "source": [
        "# FER+ – Inferência Emocional Baseada em Imagens\n",
        "\n",
        "O módulo FER+ (Facial Emotion Recognition Plus) permite identificar expressões faciais e classificá-las em categorias emocionais, como felicidade, tristeza, surpresa e raiva.\n",
        "\n",
        "Funcionalidades\n",
        "\n",
        "Detectar emoções em imagens estáticas ou vídeo.\n",
        "\n",
        "Usar landmarks faciais e classificadores treinados.\n",
        "\n",
        "Suporte a integração com visão computacional e interfaces interativas.\n",
        "\n",
        "Benefícios Institucionais\n",
        "\n",
        "Possibilita estudos sobre empatia computacional.\n",
        "\n",
        "Apoia aplicações educacionais inclusivas e centradas no usuário.\n",
        "\n",
        "Pode ser combinado com análise de voz para inferência multimodal.\n",
        "\n",
        "Observação\n",
        "\n",
        "O modelo FER+ é acessado via a biblioteca fer, que utiliza algoritmos baseados em aprendizado profundo para inferência facial."
      ],
      "metadata": {
        "id": "TAzctHY8Spuz"
      }
    },
    {
      "cell_type": "code",
      "source": [
        "from fer import FER\n",
        "import cv2\n",
        "\n",
        "imagem = cv2.imread(\"expressao_usuario.jpg\")\n",
        "detector = FER(mtcnn=True)\n",
        "emocao = detector.detect_emotions(imagem)\n",
        "print(\"😊 Emoções detectadas:\", emocao)"
      ],
      "metadata": {
        "id": "0iG5BCaNSrRA"
      },
      "execution_count": null,
      "outputs": []
    },
    {
      "cell_type": "markdown",
      "source": [
        "🧠 Hidra Operator – Raciocínio Lógico com Transformers\n",
        "Este módulo utiliza um modelo especializado em raciocínio lógico para gerar sugestões baseadas em texto.\n",
        "\n",
        "⚙️ Como Funciona\n",
        "- Recebe uma frase como entrada\n",
        "- Classifica a intenção ou lógica por trás do texto\n",
        "- Retorna uma classe que representa a sugestão lógica\n",
        "\n",
        "🧪 Exemplo de Código\n"
      ],
      "metadata": {
        "id": "6ADNI2WTSujP"
      }
    },
    {
      "cell_type": "code",
      "source": [
        "from transformers import AutoTokenizer, AutoModelForSequenceClassification\n",
        "\n",
        "model_id = \"Operator/logic-integration-1b\"\n",
        "tokenizer = AutoTokenizer.from_pretrained(model_id)\n",
        "model = AutoModelForSequenceClassification.from_pretrained(model_id)\n",
        "\n",
        "inputs = tokenizer(\"Analise os dados e gere sugestões.\", return_tensors=\"pt\")\n",
        "outputs = model(**inputs)\n",
        "print(\"🔍 Sugestão lógica (classe):\", outputs.logits.argmax().item())"
      ],
      "metadata": {
        "id": "2J4PqqpmSx-2"
      },
      "execution_count": null,
      "outputs": []
    },
    {
      "cell_type": "markdown",
      "source": [
        "💡 Ideal para análises institucionais, tomada de decisão e simulações de raciocínio."
      ],
      "metadata": {
        "id": "JDSEHXEsoT3o"
      }
    },
    {
      "cell_type": "markdown",
      "source": [
        "🧩 Interface Interativa com Widgets\n",
        "Este módulo permite criar interfaces simples e funcionais para entrada de texto no notebook.\n",
        "\n",
        "🧪 Exemplo de Código\n"
      ],
      "metadata": {
        "id": "PYQ9Pdk3S0P5"
      }
    },
    {
      "cell_type": "code",
      "source": [
        "import ipywidgets as widgets\n",
        "from IPython.display import display\n",
        "\n",
        "entrada = widgets.Text(value='', placeholder='Digite sua pergunta', description='Pergunta:')\n",
        "display(entrada)"
      ],
      "metadata": {
        "id": "DURgw8nhS3xh"
      },
      "execution_count": null,
      "outputs": []
    },
    {
      "cell_type": "markdown",
      "source": [
        "📂 11. Upload de Arquivos\n"
      ],
      "metadata": {
        "id": "XP_T8rtuouG0"
      }
    },
    {
      "cell_type": "code",
      "source": [
        "from google.colab import files\n",
        "uploaded = files.upload()"
      ],
      "metadata": {
        "id": "-sAfNL92l_I8"
      },
      "execution_count": null,
      "outputs": []
    },
    {
      "cell_type": "markdown",
      "source": [
        "📘 12. Conclusão\n",
        "\n",
        "O projeto Hidra representa um avanço significativo na pesquisa e desenvolvimento de sistemas de inteligência artificial multimodal, com foco em ética, acessibilidade e aplicabilidade educacional.\n",
        "🌐 Impacto Tecnológico\n",
        "- Integra modelos de ponta como Granite, Whisper, FER+, e Cygnus, cobrindo linguagem, visão, voz e emoção.\n",
        "- Utiliza arquitetura modular e escalável, permitindo testes independentes e integração fluida entre componentes.\n",
        "🧠 Inovação Acadêmica\n",
        "- Promove o uso de IA em ambientes escolares e institucionais com responsabilidade e transparência.\n",
        "- Estimula o pensamento crítico sobre o papel da tecnologia na educação e na formação ética dos usuários.\n",
        "🛡️ Responsabilidade e Ética\n",
        "- Módulos como Hidra Guardian e Hidra Ethica garantem que o sistema opere com supervisão ética e respeito à privacidade.\n",
        "- A inferência emocional e a transcrição de voz são aplicadas com foco em inclusão e empatia computacional.\n",
        "📈 Próximos Passos\n",
        "- Validação Técnica: Testar todos os módulos com dados reais e cenários simulados.\n",
        "- Documentação Expandida: Criar guias de uso e tutoriais para facilitar a adoção por outros pesquisadores.\n",
        "- Interface Final: Desenvolver um painel interativo com Streamlit para demonstração pública.\n",
        "- Publicação Científica: Consolidar os resultados em um artigo técnico\n"
      ],
      "metadata": {
        "id": "ti5IqTfeS-H4"
      }
    },
    {
      "cell_type": "code",
      "source": [
        "!pip install transformers fer streamlit whisper openai pillow opencv-python matplotlib seaborn"
      ],
      "metadata": {
        "id": "4QVr4sddZgQG"
      },
      "execution_count": null,
      "outputs": []
    },
    {
      "cell_type": "markdown",
      "source": [
        "🛠️ Função para Gerar Notebook Dinâmico"
      ],
      "metadata": {
        "id": "WV3XTPtWZsty"
      }
    },
    {
      "cell_type": "code",
      "source": [
        "from nbformat import v4 as nbf\n",
        "import nbformat\n",
        "\n",
        "def criar_notebook(nome=\"Relatorio_Hidra\"):\n",
        "    notebook = nbf.new_notebook()\n",
        "\n",
        "    # Célula de introdução\n",
        "    intro = nbf.new_markdown_cell(\"# 🧠 Relatório do Sistema Hidra\\\\nEste notebook documenta os principais módulos e funcionalidades da IA multimodal Hidra.\")\n",
        "\n",
        "    # Célula de importações\n",
        "    imports = nbf.new_code_cell(\"\"\"\"import matplotlib.pyplot as plt\\\\nimport seaborn as sns\\\\nimport pandas as pd\\\"\"\")\n",
        "\n",
        "    # Célula de exemplo de transcrição\n",
        "    whisper = nbf.new_code_cell(\"\"\"\"# 🔊 Módulo Whisper\\\\nprint(\\\"Transcrição de áudio: O aluno demonstrou interesse no tema.\\\")\\\"\"\")\n",
        "\n",
        "    # Célula de exemplo de emoção\n",
        "    fer = nbf.new_code_cell(\"\"\"\"# 😊 Módulo FER+\\\\nprint(\\\"Emoção detectada: Felicidade\\\")\\\"\"\")\n",
        "\n",
        "    # Célula de geração de texto\n",
        "    instruct = nbf.new_code_cell(\"\"\"\"# 📝 Módulo Hidra Instruct\\\\nprint(\\\"Texto gerado: A IA deve ser usada com responsabilidade em ambientes escolares.\\\")\\\"\"\")\n",
        "\n",
        "    # Célula de análise preditiva\n",
        "    cygnus = nbf.new_code_cell(\"\"\"\"# 📈 Módulo Cygnus\\\\nprint(\\\"Previsão de temperatura: 26.3 °C\\\")\\\"\"\")\n",
        "\n",
        "    # Adiciona todas as células\n",
        "    notebook.cells = [intro, imports, whisper, fer, instruct, cygnus]\n",
        "\n",
        "    # Salva o notebook\n",
        "    with open(f\"{nome}.ipynb\", \"w\", encoding=\"utf-8\") as f:\n",
        "        nbformat.write(notebook, f)\n",
        "\n",
        "    print(f\"✅ Notebook '{nome}.ipynb' criado com sucesso!\")\n",
        "\n",
        "# Executar a função para criar o notebook\n",
        "criar_notebook()"
      ],
      "metadata": {
        "id": "7-bifo3qZupB"
      },
      "execution_count": null,
      "outputs": []
    },
    {
      "cell_type": "markdown",
      "source": [
        "🧠 2. Módulo Cygnus – Execução Preditiva"
      ],
      "metadata": {
        "id": "pTPAbjKkaEfi"
      }
    },
    {
      "cell_type": "code",
      "source": [
        "from gemini import AdvancedModel\n",
        "\n",
        "# Simulação de dados de entrada\n",
        "input_data = {\n",
        "    \"temperatura\": [22.5, 23.0, 24.1, 25.3],\n",
        "    \"umidade\": [60, 58, 55, 53]\n",
        "}\n",
        "\n",
        "# Carregando o modelo Cygnus\n",
        "model = AdvancedModel.load(\"cygnus-ultimate\")\n",
        "\n",
        "# Configurando parâmetros avançados\n",
        "model.configure(precision=\"float16\", optimization_level=3)\n",
        "\n",
        "# Executando tarefa preditiva\n",
        "result = model.execute_task(\"análise preditiva\", data=input_data)\n",
        "print(\"Resultado da análise preditiva:\", result)"
      ],
      "metadata": {
        "id": "FHrJ6baAaGOf"
      },
      "execution_count": null,
      "outputs": []
    },
    {
      "cell_type": "markdown",
      "source": [
        "📊 3. Visualização com Matplotlib e Seaborn"
      ],
      "metadata": {
        "id": "NNXtaR7kaKGY"
      }
    },
    {
      "cell_type": "code",
      "source": [
        "import matplotlib.pyplot as plt\n",
        "import seaborn as sns\n",
        "import pandas as pd\n",
        "\n",
        "# Convertendo dados simulados em DataFrame\n",
        "df = pd.DataFrame(input_data)\n",
        "\n",
        "# Gráfico de linha\n",
        "plt.figure(figsize=(8, 4))\n",
        "sns.lineplot(data=df)\n",
        "plt.title(\"Séries Temporais - Temperatura e Umidade\")\n",
        "plt.xlabel(\"Tempo\")\n",
        "plt.ylabel(\"Valor\")\n",
        "plt.grid(True)\n",
        "plt.show()"
      ],
      "metadata": {
        "id": "hYFTfXJ2aK3J"
      },
      "execution_count": null,
      "outputs": []
    },
    {
      "cell_type": "markdown",
      "source": [
        "🌐 4. Integração com API Externa (Exemplo com OpenWeather)"
      ],
      "metadata": {
        "id": "OshhCaZJaaL7"
      }
    },
    {
      "cell_type": "code",
      "source": [
        "import requests\n",
        "\n",
        "# Exemplo de chamada à API do OpenWeather (substitua pela sua chave)\n",
        "api_key = \"SUA_CHAVE_AQUI\"\n",
        "cidade = \"Salinas,BR\"\n",
        "url = f\"http://api.openweathermap.org/data/2.5/weather?q={cidade}&appid={api_key}&units=metric\"\n",
        "\n",
        "response = requests.get(url)\n",
        "dados = response.json()\n",
        "\n",
        "# Exibindo dados relevantes\n",
        "print(\"Temperatura atual:\", dados[\"main\"][\"temp\"], \"°C\")\n",
        "print(\"Condições climáticas:\", dados[\"weather\"][0][\"description\"])"
      ],
      "metadata": {
        "id": "EWSO24TVabYo"
      },
      "execution_count": null,
      "outputs": []
    },
    {
      "cell_type": "markdown",
      "source": [
        "🧪 Testando a API com Python"
      ],
      "metadata": {
        "id": "J2wf-op6kcj5"
      }
    },
    {
      "cell_type": "code",
      "source": [
        "import requests\n",
        "\n",
        "API_KEY = \"sua_chave_aqui\"\n",
        "url = \"https://generativelanguage.googleapis.com/v1beta/models/gemini-pro:generateContent\"\n",
        "\n",
        "headers = {\n",
        "    \"Content-Type\": \"application/json\",\n",
        "    \"Authorization\": f\"Bearer {API_KEY}\"\n",
        "}\n",
        "\n",
        "data = {\n",
        "    \"contents\": [{\"parts\": [{\"text\": \"Explique o impacto da IA multimodal na educação inclusiva.\"}]}]\n",
        "}\n",
        "\n",
        "response = requests.post(url, headers=headers, json=data)\n",
        "print(response.json())"
      ],
      "metadata": {
        "id": "6WL2j-xbkezP"
      },
      "execution_count": null,
      "outputs": []
    },
    {
      "cell_type": "markdown",
      "source": [
        "# 📑 Índice do Projeto Hidra\n",
        "\n",
        "- [1. Capa e Identificação](#1-capa-e-identificação)\n",
        "- [2. Objetivo do Projeto](#2-objetivo-do-projeto)\n",
        "- [3. Instalação de Bibliotecas](#3-instalação-de-bibliotecas)\n",
        "- [4. HidraText – Geração de Texto](#4-hidratext--geração-de-texto)\n",
        "- [5. Hidra Guardian – Auditoria Ética](#5-hidra-guardian--auditoria-ética)\n",
        "- [6. Hidra Vision – Classificação de Imagem](#6-hidra-vision--classificação-de-imagem)\n",
        "- [7. Whisper – Transcrição de Áudio](#7-whisper--transcrição-de-áudio)\n",
        "- [8. FER+ – Emoções Faciais](#8-fer--emoções-faciais)\n",
        "- [9. Operator – Raciocínio Lógico](#9-operator--raciocínio-lógico)\n",
        "- [10. Interface Interativa](#10-interface-interativa)\n",
        "- [11. Upload de Arquivos](#11-upload-de-arquivos)\n",
        "- [12. Conclusão](#12-conclusão)\n",
        "\n",
        "---"
      ],
      "metadata": {
        "id": "J84pQ-J5TI7J"
      }
    },
    {
      "cell_type": "code",
      "source": [
        "from transformers import AutoTokenizer, AutoModelForCausalLM\n",
        "\n",
        "model_id = \"IBM/granite-3b-instruct\"\n",
        "tokenizer = AutoTokenizer.from_pretrained(model_id)\n",
        "model = AutoModelForCausalLM.from_pretrained(model_id)\n",
        "\n",
        "prompt = \"Explique os riscos éticos do uso de IA em ambientes escolares.\"\n",
        "inputs = tokenizer(prompt, return_tensors=\"pt\")\n",
        "output = model.generate(**inputs, max_new_tokens=250)\n",
        "print(tokenizer.decode(output[0], skip_special_tokens=True))"
      ],
      "metadata": {
        "id": "bMKwzEPCUsSI"
      },
      "execution_count": null,
      "outputs": []
    },
    {
      "cell_type": "code",
      "source": [
        "import os\n",
        "\n",
        "# Criar diretório chamado 'Streamlit'\n",
        "os.makedirs(\"Streamlit\", exist_ok=True)\n",
        "\n",
        "print(\"Diretório 'Streamlit' criado com sucesso.\")"
      ],
      "metadata": {
        "id": "erJSVJoOU5eA",
        "colab": {
          "base_uri": "https://localhost:8080/"
        },
        "outputId": "104303d1-ff6c-4f01-f09a-9283d767b7d8"
      },
      "execution_count": null,
      "outputs": [
        {
          "output_type": "stream",
          "name": "stdout",
          "text": [
            "Diretório 'Streamlit' criado com sucesso.\n"
          ]
        }
      ]
    },
    {
      "cell_type": "markdown",
      "source": [
        "📝 Criar app.py no diretório Streamlit\n",
        "# Conteúdo do app Streamlit\n",
        "\n",
        "\n"
      ],
      "metadata": {
        "id": "J6wwksD0qaUg"
      }
    },
    {
      "cell_type": "code",
      "source": [
        "# Conteúdo do app Streamlit\n",
        "codigo_app = \"\"\"\n",
        "import streamlit as st\n",
        "\n",
        "st.title(\"🧠 Sistema Hidra – Painel Multimodal\")\n",
        "\n",
        "st.header(\"🎧 Transcrição de Áudio (Whisper)\")\n",
        "transcricao = st.text_area(\"Resultado da transcrição:\", \"Transcrição de áudio: ...\")\n",
        "\n",
        "st.header(\"😊 Emoções Detectadas (FER+)\")\n",
        "emocao = st.text_input(\"Emoção detectada:\", \"Emoção detectada: ...\")\n",
        "\n",
        "st.header(\"📝 Geração de Texto (Hidra Instruct)\")\n",
        "texto = st.text_area(\"Texto gerado:\", \"Texto gerado: ...\")\n",
        "\n",
        "st.header(\"📈 Análise Preditiva (Cygnus)\")\n",
        "previsao = st.text_input(\"Previsão Cygnus:\", \"Análise preditiva: ...\")\n",
        "\n",
        "st.markdown(\"---\")\n",
        "st.markdown(\"✅ Sistema Hidra – Interface interativa para visualização de resultados multimodais.\")\n",
        "\"\"\"\n",
        "\n",
        "# Criar diretório se não existir e salvar o arquivo\n",
        "import os\n",
        "os.makedirs(\"Streamlit\", exist_ok=True)\n",
        "\n",
        "with open(\"Streamlit/app.py\", \"w\", encoding=\"utf-8\") as f:\n",
        "    f.write(codigo_app)\n",
        "\n",
        "print(\"Arquivo 'app.py' criado com sucesso em Streamlit/\")"
      ],
      "metadata": {
        "id": "z7at7rQfqCdh"
      },
      "execution_count": null,
      "outputs": []
    },
    {
      "cell_type": "code",
      "source": [
        "codigo_app = \"\"\" import streamlit as st\n",
        "\n",
        "# Título do app\n",
        "st.title(\"🧠 Sistema Hidra – Painel Multimodal\")\n",
        "\n",
        "# Seções principais\n",
        "st.header(\"🎧 Transcrição de Áudio (Whisper)\")\n",
        "transcricao = st.text_area(\"Resultado da transcrição:\", \"Transcrição de áudio: ...\")\n",
        "\n",
        "st.header(\"😊 Emoções Detectadas (FER+)\")\n",
        "emocao = st.text_input(\"Emoção detectada:\", \"Emoção detectada: ...\")\n",
        "\n",
        "st.header(\"📝 Geração de Texto (Hidra Instruct)\")\n",
        "texto = st.text_area(\"Texto gerado:\", \"Texto gerado: ...\")\n",
        "\n",
        "st.header(\"📈 Análise Preditiva (Cygnus)\")\n",
        "previsao = st.text_input(\"Previsão Cygnus:\", \"Análise preditiva: ...\")\n",
        "\n",
        "# Rodapé\n",
        "st.markdown(\"---\")\n",
        "st.markdown(\"✅ Sistema Hidra – Interface interativa para visualização de resultados multimodais.\") \"\"\""
      ],
      "metadata": {
        "id": "hRLdt-lcpUvR"
      },
      "execution_count": null,
      "outputs": []
    },
    {
      "cell_type": "code",
      "source": [
        "codigo_app = \"\"\" import streamlit as st\n",
        "\n",
        "# Título do app\n",
        "st.title(\"🧠 Sistema Hidra – Painel Multimodal\")\n",
        "\n",
        "# Seções principais\n",
        "st.header(\"🎧 Transcrição de Áudio (Whisper)\")\n",
        "transcricao = st.text_area(\"Resultado da transcrição:\", \"Transcrição de áudio: ...\")\n",
        "\n",
        "st.header(\"😊 Emoções Detectadas (FER+)\")\n",
        "emocao = st.text_input(\"Emoção detectada:\", \"Emoção detectada: ...\")\n",
        "\n",
        "st.header(\"📝 Geração de Texto (Hidra Instruct)\")\n",
        "texto = st.text_area(\"Texto gerado:\", \"Texto gerado: ...\")\n",
        "\n",
        "st.header(\"📈 Análise Preditiva (Cygnus)\")\n",
        "previsao = st.text_input(\"Previsão Cygnus:\", \"Análise preditiva: ...\")\n",
        "\n",
        "# Rodapé\n",
        "st.markdown(\"---\")\n",
        "st.markdown(\"✅ Sistema Hidra – Interface interativa para visualização de resultados multimodais.\") \"\"\"\n",
        "\n",
        "with open(\"Streamlit/app.py\", \"w\", encoding=\"utf-8\") as f:\n",
        "    f.write(codigo_app)"
      ],
      "metadata": {
        "id": "nn0KTIJ1rnnx"
      },
      "execution_count": null,
      "outputs": []
    },
    {
      "cell_type": "markdown",
      "source": [
        "💡 Listar os arquivos e diretórios:\n"
      ],
      "metadata": {
        "id": "BtlpW7MVq30q"
      }
    },
    {
      "cell_type": "code",
      "source": [
        "os.listdir()"
      ],
      "metadata": {
        "id": "MzPct484rBA1"
      },
      "execution_count": null,
      "outputs": []
    },
    {
      "cell_type": "markdown",
      "source": [
        "Ver conteúdo"
      ],
      "metadata": {
        "id": "tdDC0NPKrGF4"
      }
    },
    {
      "cell_type": "code",
      "source": [
        "os.listdir(\"Streamlit\")"
      ],
      "metadata": {
        "id": "h7kxgx_6rH_S"
      },
      "execution_count": null,
      "outputs": []
    },
    {
      "cell_type": "code",
      "metadata": {
        "id": "f8ecb15f"
      },
      "source": [
        "!streamlit run Streamlit/app.py &>/dev/null&"
      ],
      "execution_count": null,
      "outputs": []
    },
    {
      "cell_type": "code",
      "source": [
        "from pyngrok import ngrok\n",
        "\n",
        "# Abrir túnel na porta 8501 (padrão do Streamlit)\n",
        "public_url = ngrok.connect(port=8501)\n",
        "print(\"🔗 URL pública do Streamlit:\", public_url)\n",
        "\n",
        "# Rodar o app Streamlit\n",
        "!streamlit run Streamlit/app.py &"
      ],
      "metadata": {
        "id": "KIjucWBptVdz"
      },
      "execution_count": null,
      "outputs": []
    },
    {
      "cell_type": "code",
      "source": [
        "from nbformat import v4 as nbf\n",
        "import nbformat\n",
        "\n",
        "def criar_notebook(nome=\"Relatorio_Hidra\"):\n",
        "    notebook = nbf.new_notebook()\n",
        "\n",
        "    # Célula de introdução\n",
        "    intro = nbf.new_markdown_cell(\"# 🧠 Relatório do Sistema Hidra\\\\nEste notebook documenta os principais módulos e funcionalidades da IA multimodal Hidra.\")\n",
        "\n",
        "    # Célula de importações\n",
        "    imports = nbf.new_code_cell(\"\"\"\"import matplotlib.pyplot as plt\\\\nimport seaborn as sns\\\\nimport pandas as pd\\\"\"\")\n",
        "\n",
        "    # Célula de exemplo de transcrição\n",
        "    whisper = nbf.new_code_cell(\"\"\"\"# 🔊 Módulo Whisper\\\\nprint(\\\"Transcrição de áudio: O aluno demonstrou interesse no tema.\\\")\\\"\"\")\n",
        "\n",
        "    # Célula de exemplo de emoção\n",
        "    fer = nbf.new_code_cell(\"\"\"\"# 😊 Módulo FER+\\\\nprint(\\\"Emoção detectada: Felicidade\\\")\\\"\"\")\n",
        "\n",
        "    # Célula de geração de texto\n",
        "    instruct = nbf.new_code_cell(\"\"\"\"# 📝 Módulo Hidra Instruct\\\\nprint(\\\"Texto gerado: A IA deve ser usada com responsabilidade em ambientes escolares.\\\")\\\"\"\")\n",
        "\n",
        "    # Célula de análise preditiva\n",
        "    cygnus = nbf.new_code_cell(\"\"\"\"# 📈 Módulo Cygnus\\\\nprint(\\\"Previsão de temperatura: 26.3 °C\\\")\\\"\"\")\n",
        "\n",
        "    # Adiciona todas as células\n",
        "    notebook.cells = [intro, imports, whisper, fer, instruct, cygnus]\n",
        "\n",
        "    # Salva o notebook\n",
        "    with open(f\"{nome}.ipynb\", \"w\", encoding=\"utf-8\") as f:\n",
        "        nbformat.write(notebook, f)\n",
        "\n",
        "    print(f\"✅ Notebook '{nome}.ipynb' criado com sucesso!\")\n",
        "\n",
        "# Executar a função para criar o notebook\n",
        "criar_notebook()"
      ],
      "metadata": {
        "id": "xI6-CKD8wlCz"
      },
      "execution_count": null,
      "outputs": []
    },
    {
      "cell_type": "code",
      "metadata": {
        "colab": {
          "base_uri": "https://localhost:8080/"
        },
        "id": "f7704cd8",
        "outputId": "d5073399-620e-4e28-f5e4-d909efe6a58d"
      },
      "source": [
        "!ls"
      ],
      "execution_count": null,
      "outputs": [
        {
          "output_type": "stream",
          "name": "stdout",
          "text": [
            "Relatorio_Hidra.ipynb  sample_data  Streamlit\n"
          ]
        }
      ]
    },
    {
      "cell_type": "markdown",
      "source": [],
      "metadata": {
        "id": "Fzd9xVtTJvLT"
      }
    }
  ]
}