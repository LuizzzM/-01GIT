{
  "nbformat": 4,
  "nbformat_minor": 0,
  "metadata": {
    "colab": {
      "provenance": [],
      "authorship_tag": "ABX9TyNI/ra7+/PO95pO0dChfd2y",
      "include_colab_link": true
    },
    "kernelspec": {
      "name": "python3",
      "display_name": "Python 3"
    },
    "language_info": {
      "name": "python"
    }
  },
  "cells": [
    {
      "cell_type": "markdown",
      "metadata": {
        "id": "view-in-github",
        "colab_type": "text"
      },
      "source": [
        "<a href=\"https://colab.research.google.com/github/LuizzzM/-01GIT/blob/main/hidra_sistema_transformer.ipynb\" target=\"_parent\"><img src=\"https://colab.research.google.com/assets/colab-badge.svg\" alt=\"Open In Colab\"/></a>"
      ]
    },
    {
      "cell_type": "markdown",
      "source": [
        "\n",
        "\n",
        "> Adicionar aspas\n",
        "# 🧠 Notebook: Sistema Hidra – IA Multimodal com Modelos Granite\n",
        "📘 1. Capa e Identificaçã\n"
      ],
      "metadata": {
        "id": "ifSkkHaeRUND"
      }
    },
    {
      "cell_type": "code",
      "execution_count": null,
      "metadata": {
        "id": "4N7V-quARA5j"
      },
      "outputs": [],
      "source": [
        "# Sistema Hidra – IA Multimodal com Modelos Granite\n",
        "**Discente:** Luiz Augusto Mendes Barbosa\n",
        "**Instituição:** Instituto Federal do Norte de Minas Gerais – Campus Salinas\n",
        "**Curso:** Bacharelado em Sistemas de Informação.\n",
        "**Data:** Agosto de 2025"
      ]
    },
    {
      "cell_type": "markdown",
      "source": [
        "## Objetivo\n",
        "\n",
        "# Desenvolver um sistema de inteligência artificial multimodal baseado nos modelos IBM Granite, com foco em aplicações educacionais, institucionais e éticas."
      ],
      "metadata": {
        "id": "5xT9Utb3Rlpy"
      }
    },
    {
      "cell_type": "code",
      "source": [
        "!pip install transformers fer streamlit whisper openai pillow opencv-python"
      ],
      "metadata": {
        "id": "4b6YnAyQTyS9"
      },
      "execution_count": null,
      "outputs": []
    },
    {
      "cell_type": "markdown",
      "source": [
        "# 🧠 4. HidraText – Geração de Texto Explicativo"
      ],
      "metadata": {
        "id": "YG1rTenwSMAO"
      }
    },
    {
      "cell_type": "code",
      "source": [
        "from transformers import AutoTokenizer, AutoModelForCausalLM\n",
        "\n",
        "model_id = \"IBM/granite-3b-instruct\"\n",
        "tokenizer = AutoTokenizer.from_pretrained(model_id)\n",
        "model = AutoModelForCausalLM.from_pretrained(model_id)\n",
        "\n",
        "prompt = \"Explique os riscos éticos do uso de IA em ambientes escolares.\"\n",
        "inputs = tokenizer(prompt, return_tensors=\"pt\")\n",
        "output = model.generate(**inputs, max_new_tokens=250)\n",
        "print(tokenizer.decode(output[0], skip_special_tokens=True))"
      ],
      "metadata": {
        "id": "LIK_Ok7BSP3U"
      },
      "execution_count": null,
      "outputs": []
    },
    {
      "cell_type": "markdown",
      "source": [
        "# 🛡️ 5. Hidra Guardian – Auditoria Ética Simulada"
      ],
      "metadata": {
        "id": "Fnj-McK-SR-l"
      }
    },
    {
      "cell_type": "code",
      "source": [
        "def simular_auditoria(prompt_texto):\n",
        "    if \"emoção\" in prompt_texto.lower() or \"consentimento\" in prompt_texto.lower():\n",
        "        print(\"⚠️ Risco ético detectado: Recomenda-se supervisão humana.\")\n",
        "    else:\n",
        "        print(\"✅ Entrada validada: sem risco identificado.\")\n",
        "\n",
        "simular_auditoria(\"A IA pode monitorar emoções sem consentimento?\")"
      ],
      "metadata": {
        "id": "pgJYtxTsSVN3"
      },
      "execution_count": null,
      "outputs": []
    },
    {
      "cell_type": "markdown",
      "source": [
        "# 🖼️ 6. Granite Vision – Classificação de Imagem\n",
        "\n"
      ],
      "metadata": {
        "id": "LZa0eyYLSZ8V"
      }
    },
    {
      "cell_type": "code",
      "source": [
        "from transformers import AutoProcessor, AutoModelForImageClassification\n",
        "from PIL import Image\n",
        "import requests\n",
        "\n",
        "model_id = \"IBM/granite-vision-3.2-2b\"\n",
        "image = Image.open(requests.get(\"https://images.unsplash.com/photo-1607746882042-944635dfe10e\", stream=True).raw)\n",
        "\n",
        "processor = AutoProcessor.from_pretrained(model_id)\n",
        "model = AutoModelForImageClassification.from_pretrained(model_id)\n",
        "\n",
        "inputs = processor(images=image, return_tensors=\"pt\")\n",
        "outputs = model(**inputs)\n",
        "print(\"🖼️ Classe prevista:\", outputs.logits.argmax().item())"
      ],
      "metadata": {
        "id": "O2n_W2THSf8A"
      },
      "execution_count": null,
      "outputs": []
    },
    {
      "cell_type": "markdown",
      "source": [
        "# 🔊 7. Whisper – Transcrição de Áudio"
      ],
      "metadata": {
        "id": "98-CvMyBSjGU"
      }
    },
    {
      "cell_type": "code",
      "source": [
        "import whisper\n",
        "\n",
        "modelo = whisper.load_model(\"base\")\n",
        "resultado = modelo.transcribe(\"caminho_para_audio.wav\")\n",
        "print(\"🗣️ Transcrição:\", resultado[\"text\"])"
      ],
      "metadata": {
        "id": "eoytgYBcSlWa"
      },
      "execution_count": null,
      "outputs": []
    },
    {
      "cell_type": "markdown",
      "source": [
        "😐 8. FER+ – Reconhecimento de Emoções Faciais"
      ],
      "metadata": {
        "id": "TAzctHY8Spuz"
      }
    },
    {
      "cell_type": "code",
      "source": [
        "from fer import FER\n",
        "import cv2\n",
        "\n",
        "imagem = cv2.imread(\"expressao_usuario.jpg\")\n",
        "detector = FER(mtcnn=True)\n",
        "emocao = detector.detect_emotions(imagem)\n",
        "print(\"😊 Emoções detectadas:\", emocao)"
      ],
      "metadata": {
        "id": "0iG5BCaNSrRA"
      },
      "execution_count": null,
      "outputs": []
    },
    {
      "cell_type": "markdown",
      "source": [
        "# 🧠 9. Operator – Raciocínio Lógic"
      ],
      "metadata": {
        "id": "6ADNI2WTSujP"
      }
    },
    {
      "cell_type": "code",
      "source": [
        "from transformers import AutoTokenizer, AutoModelForSequenceClassification\n",
        "\n",
        "model_id = \"Operator/logic-integration-1b\"\n",
        "tokenizer = AutoTokenizer.from_pretrained(model_id)\n",
        "model = AutoModelForSequenceClassification.from_pretrained(model_id)\n",
        "\n",
        "inputs = tokenizer(\"Analise os dados e gere sugestões.\", return_tensors=\"pt\")\n",
        "outputs = model(**inputs)\n",
        "print(\"🔍 Sugestão lógica (classe):\", outputs.logits.argmax().item())"
      ],
      "metadata": {
        "id": "2J4PqqpmSx-2"
      },
      "execution_count": null,
      "outputs": []
    },
    {
      "cell_type": "markdown",
      "source": [
        "# 🖥️ 10. Interface Interativa com Widgets (Opcional)"
      ],
      "metadata": {
        "id": "PYQ9Pdk3S0P5"
      }
    },
    {
      "cell_type": "code",
      "source": [
        "import ipywidgets as widgets\n",
        "from IPython.display import display\n",
        "\n",
        "entrada = widgets.Text(value='', placeholder='Digite sua pergunta', description='Pergunta:')\n",
        "display(entrada)"
      ],
      "metadata": {
        "id": "DURgw8nhS3xh"
      },
      "execution_count": null,
      "outputs": []
    },
    {
      "cell_type": "markdown",
      "source": [
        "📂 11. Upload de Arquivos\n",
        "from google.colab import files\n",
        "\n",
        "uploaded = files.upload()\n",
        "\n",
        "\n",
        "\n",
        "📘 12. Conclusão\n",
        "## Conclusão\n",
        "\n",
        "O sistema Hidra demonstra a viabilidade de integrar modelos multimodais com foco em ética, explicabilidade e aplicabilidade educacional. A arquitetura modular e o uso dos modelos Granite garantem robustez e transparência, enquanto os módulos complementares ampliam o repertório técnico e acadêmico.\n",
        "\n",
        "\n",
        "\n",
        "Se quiser, posso montar esse conteúdo como um índice interativo ou sugerir como dividir em seções com links internos no Colab. Deseja que eu prepare isso também? 📘🧠📂\n"
      ],
      "metadata": {
        "id": "ti5IqTfeS-H4"
      }
    },
    {
      "cell_type": "code",
      "source": [
        "from google.colab import files\n",
        "\n",
        "uploaded = files.upload()"
      ],
      "metadata": {
        "id": "2pfD2bAATDTZ"
      },
      "execution_count": null,
      "outputs": []
    },
    {
      "cell_type": "markdown",
      "source": [
        "# 📑 Índice do Projeto Hidra\n",
        "\n",
        "- [1. Capa e Identificação](#1-capa-e-identificação)\n",
        "- [2. Objetivo do Projeto](#2-objetivo-do-projeto)\n",
        "- [3. Instalação de Bibliotecas](#3-instalação-de-bibliotecas)\n",
        "- [4. Granite Instruct – Geração de Texto](#4-granite-instruct--geração-de-texto)\n",
        "- [5. Granite Guardian – Auditoria Ética](#5-granite-guardian--auditoria-ética)\n",
        "- [6. Granite Vision – Classificação de Imagem](#6-granite-vision--classificação-de-imagem)\n",
        "- [7. Whisper – Transcrição de Áudio](#7-whisper--transcrição-de-áudio)\n",
        "- [8. FER+ – Emoções Faciais](#8-fer--emoções-faciais)\n",
        "- [9. Operator – Raciocínio Lógico](#9-operator--raciocínio-lógico)\n",
        "- [10. Interface Interativa](#10-interface-interativa)\n",
        "- [11. Upload de Arquivos](#11-upload-de-arquivos)\n",
        "- [12. Conclusão](#12-conclusão)\n",
        "\n",
        "---\n",
        "\n",
        "## 1. Capa e Identificação\n",
        "\n",
        "**Discente:** Luiz Augusto Mendes Barbosa  \n",
        "**Instituição:** Instituto Federal do Norte de Minas Gerais – Campus Salinas  \n",
        "**Curso:** Bacharelado em sistemas de informação\n",
        "**Data:** Agosto de 2025\n",
        "\n",
        "---\n",
        "\n",
        "## 2. Objetivo do Projeto\n",
        "\n",
        "Desenvolver um sistema de inteligência artificial multimodal baseado nos modelos IBM Granite, com foco em aplicações educacionais, institucionais e éticas.\n",
        "\n",
        "---\n",
        "\n",
        "## 3. Instalação de Bibliotecas\n",
        "\n",
        "```python\n",
        "!pip install transformers fer streamlit whisper openai pillow opencv-python"
      ],
      "metadata": {
        "id": "J84pQ-J5TI7J"
      }
    },
    {
      "cell_type": "markdown",
      "source": [
        "# 4. Granite Instruct – Geração de Texto"
      ],
      "metadata": {
        "id": "JFXhL2ljUqYs"
      }
    },
    {
      "cell_type": "code",
      "source": [
        "from transformers import AutoTokenizer, AutoModelForCausalLM\n",
        "\n",
        "model_id = \"IBM/granite-3b-instruct\"\n",
        "tokenizer = AutoTokenizer.from_pretrained(model_id)\n",
        "model = AutoModelForCausalLM.from_pretrained(model_id)\n",
        "\n",
        "prompt = \"Explique os riscos éticos do uso de IA em ambientes escolares.\"\n",
        "inputs = tokenizer(prompt, return_tensors=\"pt\")\n",
        "output = model.generate(**inputs, max_new_tokens=250)\n",
        "print(tokenizer.decode(output[0], skip_special_tokens=True))"
      ],
      "metadata": {
        "id": "bMKwzEPCUsSI"
      },
      "execution_count": null,
      "outputs": []
    },
    {
      "cell_type": "code",
      "source": [
        "\n",
        "---\n",
        "\n",
        "### 💻 Bloco de Código — Criar Notebook Programaticamente (Avançado)\n",
        "\n",
        "Se quiser gerar o notebook `.ipynb` automaticamente com Python, você pode usar este script localmente (não no Colab):\n",
        "\n",
        "```python\n",
        "import nbformat as nbf\n",
        "\n",
        "# Cria novo notebook\n",
        "notebook = nbf.v4.new_notebook()\n",
        "\n",
        "# Células de texto e código\n",
        "cells = [\n",
        "    nbf.v4.new_markdown_cell(\"# Sistema Hidra – IA Multimodal\\nDiscente: Luiz Augusto Mendes Barbosa\"),\n",
        "    nbf.v4.new_markdown_cell(\"## Objetivo\\nDesenvolver um sistema multimodal com base nos modelos Granite.\"),\n",
        "    nbf.v4.new_code_cell(\"!pip install transformers fer streamlit whisper openai pillow opencv-python\"),\n",
        "    nbf.v4.new_code_cell(\"\"\"from transformers import AutoTokenizer, AutoModelForCausalLM\n",
        "model_id = \"IBM/granite-3b-instruct\"\n",
        "tokenizer = AutoTokenizer.from_pretrained(model_id)\n",
        "model = AutoModelForCausalLM.from_pretrained(model_id)\n",
        "prompt = \"Explique os riscos éticos do uso de IA em ambientes escolares.\"\n",
        "inputs = tokenizer(prompt, return_tensors=\"pt\")\n",
        "output = model.generate(**inputs, max_new_tokens=250)\n",
        "print(tokenizer.decode(output[0], skip_special_tokens=True))\"\"\")\n",
        "]\n",
        "\n",
        "notebook['cells'] = cells\n",
        "\n",
        "# Salva como arquivo .ipynb\n",
        "with open(\"hidra_sistema_transformer.ipynb\", \"w\", encoding=\"utf-8\") as f:\n",
        "    nbf.write(notebook, f)"
      ],
      "metadata": {
        "id": "erJSVJoOU5eA"
      },
      "execution_count": null,
      "outputs": []
    }
  ]
}